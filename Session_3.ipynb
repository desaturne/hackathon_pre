{
  "nbformat": 4,
  "nbformat_minor": 0,
  "metadata": {
    "colab": {
      "provenance": []
    },
    "kernelspec": {
      "name": "python3",
      "display_name": "Python 3"
    },
    "language_info": {
      "name": "python"
    }
  },
  "cells": [
    {
      "cell_type": "markdown",
      "source": [
        "# Implementing a Simple Markov Chain Model for Commentary Generation"
      ],
      "metadata": {
        "id": "nqnPaQ-P2_am"
      }
    },
    {
      "cell_type": "code",
      "source": [
        "import random\n",
        "import re\n",
        "import nltk\n",
        "from collections import defaultdict, Counter\n",
        "import pandas as pd\n",
        "import numpy as np"
      ],
      "metadata": {
        "id": "-i-ZY0zA2vZ3"
      },
      "execution_count": null,
      "outputs": []
    },
    {
      "cell_type": "code",
      "source": [
        "nltk.download('punkt_tab')"
      ],
      "metadata": {
        "colab": {
          "base_uri": "https://localhost:8080/"
        },
        "id": "MF3uFHQ04Q1w",
        "outputId": "d6e9b889-b518-412d-c425-228ef4b4b397"
      },
      "execution_count": null,
      "outputs": [
        {
          "output_type": "stream",
          "name": "stderr",
          "text": [
            "[nltk_data] Downloading package punkt_tab to /root/nltk_data...\n",
            "[nltk_data]   Unzipping tokenizers/punkt_tab.zip.\n"
          ]
        },
        {
          "output_type": "execute_result",
          "data": {
            "text/plain": [
              "True"
            ]
          },
          "metadata": {},
          "execution_count": 2
        }
      ]
    },
    {
      "cell_type": "code",
      "execution_count": null,
      "metadata": {
        "id": "slwv33U02oOc"
      },
      "outputs": [],
      "source": [
        "# Sample commentary corpus for demonstration\n",
        "commentary_corpus = [\n",
        "    \"James drives to the basket, lays it up and in! Two points for the Lakers.\",\n",
        "    \"Curry with the ball, steps back, shoots the three... BANG! Nothing but net!\",\n",
        "    \"Durant crosses over, pulls up from mid-range, and it's good! Smooth jumper.\",\n",
        "    \"James passes to Davis, who dunks it with authority! What a play!\",\n",
        "    \"Curry dribbles past the defender, stops at the line, shoots the three... It's good!\",\n",
        "    \"Harden with the step-back three... and he connects! Three points for the Rockets.\",\n",
        "    \"Antetokounmpo drives, spins, and slams it home! What a move by the Greek Freak!\",\n",
        "    \"James with the no-look pass to Davis for the alley-oop slam!\",\n",
        "    \"Curry finds Green, back to Curry, shoots the three... BANG! From way downtown!\",\n",
        "    \"Durant with the crossover, drives, and finishes with the left hand! Beautiful move.\"\n",
        "]"
      ]
    },
    {
      "cell_type": "code",
      "source": [
        "class MarkovChainGenerator:\n",
        "    def __init__(self, corpus, order=2):\n",
        "        self.order = order\n",
        "        self.corpus = corpus\n",
        "        self.model = defaultdict(Counter)\n",
        "        self.build_model()\n",
        "\n",
        "    def preprocess_text(self, text):\n",
        "        text = f\"{'__START__ ' * self.order}{text} __END__\"\n",
        "        return text\n",
        "\n",
        "    def build_model(self):\n",
        "        for text in self.corpus:\n",
        "            text = self.preprocess_text(text)\n",
        "            words = text.split()\n",
        "            for i in range(len(words) - self.order):\n",
        "                state = tuple(words[i:i + self.order])\n",
        "                next_word = words[i + self.order]\n",
        "                self.model[state][next_word] += 1\n",
        "\n",
        "    def generate_text(self, max_length=50):\n",
        "        current = ('__START__',) * self.order\n",
        "        result = []\n",
        "        for _ in range(max_length):\n",
        "            if current not in self.model or '__END__' in current:\n",
        "                break\n",
        "            possibilities = self.model[current]\n",
        "            choices, weights = zip(*possibilities.items())\n",
        "            next_word = random.choices(choices, weights=weights, k=1)[0]\n",
        "            if next_word == '__END__':\n",
        "                break\n",
        "            result.append(next_word)\n",
        "            current = current[1:] + (next_word,)\n",
        "        return ' '.join(result)\n",
        "\n",
        "    def generate_multiple(self, count=5, max_length=50):\n",
        "        return [self.generate_text(max_length) for _ in range(count)]"
      ],
      "metadata": {
        "id": "aSm8srYD2xr9"
      },
      "execution_count": null,
      "outputs": []
    },
    {
      "cell_type": "code",
      "source": [
        "from collections import defaultdict, Counter\n",
        "\n",
        "class MarkovChainGenerator:\n",
        "    def __init__(self, corpus, order=1):\n",
        "        self.order = order\n",
        "        self.corpus = corpus\n",
        "        self.model = defaultdict(Counter)\n",
        "\n",
        "    def preprocess_text(self, text):\n",
        "        \"\"\"Each sentence is padded with __START__ tokens at the beginning (equal to order) and one __END__ token at the end.\"\"\"\n",
        "        text = f\"{'__START__ ' * self.order}{text} __END__\"\n",
        "        return text\n",
        "\n",
        "# Example usage\n",
        "corpus = [\"He shoots and scores\"]  # Example sentence\n",
        "order = 2                         # Try changing to 1 or 3 to see the difference\n",
        "markov_model = MarkovChainGenerator(corpus, order)\n",
        "\n",
        "# Apply preprocess_text and print result\n",
        "for sentence in corpus:\n",
        "    processed = markov_model.preprocess_text(sentence)\n",
        "    print(\"Original Sentence: \", sentence)\n",
        "    print(\"Processed Sentence:\", processed)"
      ],
      "metadata": {
        "colab": {
          "base_uri": "https://localhost:8080/"
        },
        "id": "ewrvN4a7FkH0",
        "outputId": "2c8aa378-9818-4247-9181-5a0a0a555bdf"
      },
      "execution_count": null,
      "outputs": [
        {
          "output_type": "stream",
          "name": "stdout",
          "text": [
            "Original Sentence:  He shoots and scores\n",
            "Processed Sentence: __START__ __START__ He shoots and scores __END__\n"
          ]
        }
      ]
    },
    {
      "cell_type": "markdown",
      "source": [
        "| State                      | Next Word |\n",
        "| -------------------------- | --------- |\n",
        "| (`__START__`, `__START__`) | 'He'      |\n",
        "| (`__START__`, 'He')        | 'shoots'  |\n",
        "| ('He', 'shoots')           | 'and'     |\n",
        "| ('shoots', 'and')          | 'scores'  |\n",
        "| ('and', 'scores')          | `__END__` |\n"
      ],
      "metadata": {
        "id": "Z4O0zP_wGDW0"
      }
    },
    {
      "cell_type": "code",
      "source": [
        "# Run and generate\n",
        "markov_model_order1 = MarkovChainGenerator(commentary_corpus, order=1)\n",
        "print(\"\\nGenerated Basketball Commentary Examples (1st-order Markov):\")\n",
        "for i, text in enumerate(markov_model_order1.generate_multiple(5), 1):\n",
        "    print(f\"{i}. {text}\")"
      ],
      "metadata": {
        "colab": {
          "base_uri": "https://localhost:8080/"
        },
        "id": "jyZNgWYI22XH",
        "outputId": "b8ca67f6-ea62-407f-e1f4-4c2000b6ef19"
      },
      "execution_count": null,
      "outputs": [
        {
          "output_type": "stream",
          "name": "stdout",
          "text": [
            "\n",
            "Generated Basketball Commentary Examples (1st-order Markov):\n",
            "1. James passes to Curry, shoots the ball, steps back, shoots the no-look pass to the left hand! Beautiful move.\n",
            "2. Curry dribbles past the three... BANG! From way downtown!\n",
            "3. James drives to Davis for the defender, stops at the crossover, drives, and in! Two points for the ball, steps back, shoots the Rockets.\n",
            "4. Curry with authority! What a move by the step-back three... BANG! Nothing but net!\n",
            "5. Antetokounmpo drives, and slams it with the Rockets.\n"
          ]
        }
      ]
    },
    {
      "cell_type": "markdown",
      "source": [
        "**🔍 Order 1 (First-Order Markov Model):**\n",
        "The model predicts the next word based only on the immediately previous word.\n",
        "\n",
        "Example:\n",
        "\n",
        "Suppose your corpus contains:\n",
        "\n",
        "\"He shoots and he scores\"\n",
        "\n",
        "After training, the model learns:\n",
        "\n",
        "\"He\" → [\"shoots\", \"scores\"]\n",
        "\n",
        "\"shoots\" → [\"and\"]\n",
        "\n",
        "\"and\" → [\"he\"]\n",
        "\n",
        "\"scores\" → [END]\n",
        "\n",
        "When generating text, the model decides the next word by only considering the last word generated."
      ],
      "metadata": {
        "id": "oDgHq_g4IY7w"
      }
    },
    {
      "cell_type": "code",
      "source": [
        "# Run and generate\n",
        "markov_model_order1 = MarkovChainGenerator(commentary_corpus, order=2)\n",
        "print(\"\\nGenerated Basketball Commentary Examples (1st-order Markov):\")\n",
        "for i, text in enumerate(markov_model_order1.generate_multiple(5), 1):\n",
        "    print(f\"{i}. {text}\")"
      ],
      "metadata": {
        "colab": {
          "base_uri": "https://localhost:8080/"
        },
        "id": "AQ8ZdM0S20i4",
        "outputId": "35ed0a1d-94bc-402e-b244-5a612eb34985"
      },
      "execution_count": null,
      "outputs": [
        {
          "output_type": "stream",
          "name": "stdout",
          "text": [
            "\n",
            "Generated Basketball Commentary Examples (1st-order Markov):\n",
            "1. Durant crosses over, pulls up from mid-range, and it's good! Smooth jumper.\n",
            "2. Curry finds Green, back to Curry, shoots the three... BANG! Nothing but net!\n",
            "3. Curry dribbles past the defender, stops at the line, shoots the three... BANG! From way downtown!\n",
            "4. James with the ball, steps back, shoots the three... BANG! Nothing but net!\n",
            "5. Curry finds Green, back to Curry, shoots the three... BANG! Nothing but net!\n"
          ]
        }
      ]
    },
    {
      "cell_type": "markdown",
      "source": [
        "**🔍 Order 2 (Second-Order Markov Model):**\n",
        "The model predicts the next word based on the previous two words.\n",
        "\n",
        "Example:\n",
        "\n",
        "From the same corpus:\n",
        "\n",
        "\"He shoots and he scores\"\n",
        "\n",
        "The model learns:\n",
        "\n",
        "(\"He\", \"shoots\") → [\"and\"]\n",
        "\n",
        "(\"shoots\", \"and\") → [\"he\"]\n",
        "\n",
        "(\"and\", \"he\") → [\"scores\"]\n",
        "\n",
        "(\"he\", \"scores\") → [END]\n",
        "\n",
        "So, when generating text, the model picks the next word based on the last two words generated."
      ],
      "metadata": {
        "id": "8riwBO70Igce"
      }
    },
    {
      "cell_type": "markdown",
      "source": [
        "# Creating Templates for Different Game Scenarios"
      ],
      "metadata": {
        "id": "uF3fEpFw3YCX"
      }
    },
    {
      "cell_type": "code",
      "source": [
        "import random\n",
        "import json"
      ],
      "metadata": {
        "id": "L-y8GBaP3eAX"
      },
      "execution_count": null,
      "outputs": []
    },
    {
      "cell_type": "code",
      "source": [
        "class TemplateGenerator:\n",
        "    def __init__(self):\n",
        "        \"\"\"Initialize the template-based generator with predefined templates.\"\"\"\n",
        "        # Game events templates\n",
        "        self.scoring_templates = [\n",
        "            \"{player} {scoring_action} {scoring_descriptor}! {points} for {team}.\",\n",
        "            \"{player} {movement_action} and {scoring_action}! {celebration}.\",\n",
        "            \"{player} with the {shot_type}... {result_exclamation} {points} on the board for {team}.\",\n",
        "            \"{assist_phrase} {player} {scoring_action}! {excitement_phrase}\",\n",
        "            \"What a {shot_descriptor} by {player}! {scoring_action} to {score_effect} for {team}.\" # Here---- What a move by Kevin Durant! nails it to pull ahead for Nets.\n",
        "        ]\n",
        "\n",
        "        # Player actions\n",
        "        self.player_actions = {\n",
        "            \"movement_action\": [\n",
        "                \"drives to the basket\", \"cuts inside\", \"finds space\", \"breaks free\",\n",
        "                \"spins past the defender\", \"crosses over\", \"steps back\", \"gets past his man\"\n",
        "            ],\n",
        "            \"scoring_action\": [\n",
        "                \"scores\", \"puts it in\", \"gets the basket\", \"sinks it\", \"nails it\",\n",
        "                \"makes it count\", \"converts\", \"finishes\"\n",
        "            ],\n",
        "            \"scoring_descriptor\": [\n",
        "                \"with ease\", \"with a beautiful shot\", \"despite the pressure\",\n",
        "                \"with perfect technique\", \"under heavy defense\", \"with precision\"\n",
        "            ],\n",
        "            \"shot_type\": [\n",
        "                \"three-pointer\", \"jump shot\", \"layup\", \"dunk\", \"fadeaway\",\n",
        "                \"hook shot\", \"floater\", \"mid-range jumper\"\n",
        "            ],\n",
        "            \"result_exclamation\": [\n",
        "                \"It's good!\", \"Count it!\", \"Nothing but net!\", \"It drops!\",\n",
        "                \"Bang!\", \"Swish!\", \"Yes!\"\n",
        "            ],\n",
        "            \"celebration\": [\n",
        "                \"The crowd goes wild\", \"His teammates love it\", \"What a moment\",\n",
        "                \"That's what they needed\", \"Spectacular play\"\n",
        "            ],\n",
        "            \"assist_phrase\": [\n",
        "                \"Great pass from {assisting_player} to\",\n",
        "                \"{assisting_player} finds\",\n",
        "                \"Brilliant assist by {assisting_player} and\",\n",
        "                \"Perfect feed from {assisting_player} to\"\n",
        "            ],\n",
        "            \"excitement_phrase\": [\n",
        "                \"What a play!\", \"Brilliant execution!\", \"That's how it's done!\",\n",
        "                \"Textbook basketball!\", \"The fans are loving it!\"\n",
        "            ],\n",
        "            \"shot_descriptor\": [\n",
        "                \"move\", \"finish\", \"shot\", \"play\", \"execution\", \"technique\"\n",
        "            ],\n",
        "            \"score_effect\": [\n",
        "                \"extend the lead\", \"narrow the gap\", \"tie the game\",\n",
        "                \"pull ahead\", \"put points on the board\", \"add to their total\"\n",
        "            ]\n",
        "        }\n",
        "\n",
        "        # Game state templates\n",
        "        self.game_state_templates = [\n",
        "            \"{time_remaining} in the {period}, {team} {lead_status} {score_difference}.\",\n",
        "            \"We're {time_descriptor} with {team} {lead_verb} {score}.\",\n",
        "            \"{team} {momentum_phrase} as we {period_stage}.\",\n",
        "            \"The score is {score} with {time_remaining} to play in the {period}.\"\n",
        "        ]\n",
        "\n",
        "        # Game state elements\n",
        "        self.game_state_elements = {\n",
        "            \"time_remaining\": [\n",
        "                \"2 minutes left\", \"45 seconds remaining\", \"just under a minute to go\",\n",
        "                \"3:30 remaining\", \"half a minute left\", \"10 seconds on the clock\"\n",
        "            ],\n",
        "            \"period\": [\n",
        "                \"first quarter\", \"second quarter\", \"third quarter\", \"fourth quarter\",\n",
        "                \"first half\", \"second half\", \"game\", \"overtime\"\n",
        "            ],\n",
        "            \"lead_status\": [\n",
        "                \"leading by\", \"up by\", \"ahead by\", \"in front by\", \"with a lead of\"\n",
        "            ],\n",
        "            \"lead_verb\": [\n",
        "                \"leading\", \"ahead\", \"in front\", \"up\", \"on top\"\n",
        "            ],\n",
        "            \"time_descriptor\": [\n",
        "                \"late in the game\", \"early in the first quarter\", \"midway through the third\",\n",
        "                \"at the start of the fourth\", \"in the final minutes\", \"at a crucial stage\"\n",
        "            ],\n",
        "            \"momentum_phrase\": [\n",
        "                \"building momentum\", \"making a comeback\", \"holding steady\",\n",
        "                \"dominating this quarter\", \"struggling to score\", \"playing excellent defense\"\n",
        "            ],\n",
        "            \"period_stage\": [\n",
        "                \"approach halftime\", \"head toward the final quarter\",\n",
        "                \"near the end of regulation\", \"enter the closing minutes\"\n",
        "            ]\n",
        "        }\n",
        "\n",
        "    def fill_template(self, template, data):\n",
        "        \"\"\"Fill a template with provided data.\"\"\"\n",
        "        result = template\n",
        "        for key, value in data.items():\n",
        "            if isinstance(value, list):\n",
        "                value = random.choice(value)\n",
        "            if key in result:\n",
        "                result = result.replace(\"{\" + key + \"}\", value)\n",
        "        return result\n",
        "\n",
        "    def generate_scoring_commentary(self, player, team, points=\"two points\", assisting_player=None):\n",
        "        \"\"\"Generate commentary for a scoring event.\"\"\"\n",
        "        template = random.choice(self.scoring_templates)\n",
        "\n",
        "        data = {\n",
        "            \"player\": player,\n",
        "            \"team\": team,\n",
        "            \"points\": points,\n",
        "            \"assisting_player\": assisting_player if assisting_player else \"teammate\"\n",
        "        }\n",
        "\n",
        "        # Add random elements from action dictionaries\n",
        "        for key, options in self.player_actions.items():\n",
        "            data[key] = random.choice(options)\n",
        "\n",
        "        return self.fill_template(template, data)\n",
        "\n",
        "    def generate_game_state_commentary(self, team=\"Team A\", score=\"67-65\", time_remaining=None, period=None):\n",
        "        \"\"\"Generate commentary describing the game state.\"\"\"\n",
        "        template = random.choice(self.game_state_templates)\n",
        "\n",
        "        data = {\n",
        "            \"team\": team,\n",
        "            \"score\": score,\n",
        "            \"score_difference\": f\"{random.randint(1, 15)} points\"\n",
        "        }\n",
        "\n",
        "        # Add random elements if not specified\n",
        "        if time_remaining is None:\n",
        "            data[\"time_remaining\"] = random.choice(self.game_state_elements[\"time_remaining\"])\n",
        "        else:\n",
        "            data[\"time_remaining\"] = time_remaining\n",
        "\n",
        "        if period is None:\n",
        "            data[\"period\"] = random.choice(self.game_state_elements[\"period\"])\n",
        "        else:\n",
        "            data[\"period\"] = period\n",
        "\n",
        "        # Add random elements from state dictionaries\n",
        "        for key, options in self.game_state_elements.items():\n",
        "            if key not in data:\n",
        "                data[key] = random.choice(options)\n",
        "\n",
        "        return self.fill_template(template, data)"
      ],
      "metadata": {
        "id": "w9-kmssY3ZjT"
      },
      "execution_count": null,
      "outputs": []
    },
    {
      "cell_type": "code",
      "source": [
        "# Demonstrate the template generator\n",
        "template_gen = TemplateGenerator()\n",
        "\n",
        "print(\"Scoring Commentary Examples:\")\n",
        "players = [\"LeBron James\", \"Stephen Curry\", \"Kevin Durant\", \"Giannis Antetokounmpo\"]\n",
        "teams = [\"Lakers\", \"Warriors\", \"Nets\", \"Bucks\"]\n",
        "points_options = [\"two points\", \"three points\", \"another basket\"]\n",
        "\n",
        "for i in range(5):\n",
        "    player = random.choice(players)\n",
        "    team = teams[players.index(player)]  # Match player with their team\n",
        "    points = random.choice(points_options)\n",
        "    assisting_player = random.choice([p for p in players if p != player])\n",
        "\n",
        "    commentary = template_gen.generate_scoring_commentary(\n",
        "        player=player,\n",
        "        team=team,\n",
        "        points=points,\n",
        "        assisting_player=assisting_player\n",
        "    )\n",
        "    print(f\"{i+1}. {commentary}\")\n",
        "\n",
        "print(\"\\nGame State Commentary Examples:\")\n",
        "for i in range(3):\n",
        "    team = random.choice(teams)\n",
        "    score = f\"{random.randint(50, 100)}-{random.randint(50, 100)}\"\n",
        "\n",
        "    commentary = template_gen.generate_game_state_commentary(\n",
        "        team=team,\n",
        "        score=score\n",
        "    )\n",
        "    print(f\"{i+1}. {commentary}\")"
      ],
      "metadata": {
        "colab": {
          "base_uri": "https://localhost:8080/"
        },
        "id": "htDKx8Tl3gns",
        "outputId": "b3b64339-8ffb-45fd-cd85-2225312bf69f"
      },
      "execution_count": null,
      "outputs": [
        {
          "output_type": "stream",
          "name": "stdout",
          "text": [
            "Scoring Commentary Examples:\n",
            "1. What a move by Kevin Durant! nails it to pull ahead for Nets.\n",
            "2. Kevin Durant with the layup... Nothing but net! two points on the board for Nets.\n",
            "3. Perfect feed from {assisting_player} to LeBron James makes it count! That's how it's done!\n",
            "4. What a technique by Giannis Antetokounmpo! finishes to narrow the gap for Bucks.\n",
            "5. What a play by LeBron James! makes it count to narrow the gap for Lakers.\n",
            "\n",
            "Game State Commentary Examples:\n",
            "1. Bucks playing excellent defense as we near the end of regulation.\n",
            "2. Lakers struggling to score as we approach halftime.\n",
            "3. The score is 93-79 with 3:30 remaining to play in the third quarter.\n"
          ]
        }
      ]
    },
    {
      "cell_type": "markdown",
      "source": [
        "# Evaluating Generated Text Quality"
      ],
      "metadata": {
        "id": "ys7rlEZv3oCD"
      }
    },
    {
      "cell_type": "code",
      "source": [
        "from nltk.translate.bleu_score import sentence_bleu, SmoothingFunction\n",
        "from nltk.util import ngrams\n",
        "import re"
      ],
      "metadata": {
        "id": "dAGD1ufO3t9v"
      },
      "execution_count": null,
      "outputs": []
    },
    {
      "cell_type": "code",
      "source": [
        "class TextEvaluator:\n",
        "    def __init__(self):\n",
        "        \"\"\"Initialize the text evaluator with metrics.\"\"\"\n",
        "        # Download required NLTK resources if not already downloaded\n",
        "        try:\n",
        "            nltk.data.find('tokenizers/punkt')\n",
        "        except LookupError:\n",
        "            nltk.download('punkt')\n",
        "\n",
        "    def calculate_bleu(self, reference, candidate):\n",
        "        \"\"\"Calculate BLEU score between reference and candidate text.\"\"\"\n",
        "        # Tokenize sentences\n",
        "        ref_tokens = nltk.word_tokenize(reference.lower())\n",
        "        cand_tokens = nltk.word_tokenize(candidate.lower())\n",
        "\n",
        "        # Add smoothing to handle cases with no n-gram overlaps\n",
        "        smoothie = SmoothingFunction().method1\n",
        "\n",
        "        # Calculate BLEU for different n-gram sizes\n",
        "        bleu_1 = sentence_bleu([ref_tokens], cand_tokens,\n",
        "                              weights=(1, 0, 0, 0), smoothing_function=smoothie)\n",
        "        bleu_2 = sentence_bleu([ref_tokens], cand_tokens,\n",
        "                              weights=(0.5, 0.5, 0, 0), smoothing_function=smoothie)\n",
        "        bleu_3 = sentence_bleu([ref_tokens], cand_tokens,\n",
        "                              weights=(0.33, 0.33, 0.33, 0), smoothing_function=smoothie)\n",
        "        bleu_4 = sentence_bleu([ref_tokens], cand_tokens,\n",
        "                              weights=(0.25, 0.25, 0.25, 0.25), smoothing_function=smoothie)\n",
        "\n",
        "        return {\n",
        "            \"bleu-1\": bleu_1,\n",
        "            \"bleu-2\": bleu_2,\n",
        "            \"bleu-3\": bleu_3,\n",
        "            \"bleu-4\": bleu_4\n",
        "        }\n",
        "\n",
        "    def calculate_diversity(self, text, n=2):\n",
        "        \"\"\"Calculate lexical diversity using n-gram types to tokens ratio.\"\"\"\n",
        "        tokens = nltk.word_tokenize(text.lower())\n",
        "\n",
        "        if len(tokens) < n:\n",
        "            return 0\n",
        "\n",
        "        n_grams = list(ngrams(tokens, n))\n",
        "        unique_n_grams = set(n_grams)\n",
        "\n",
        "        # Distinct n-grams ratio\n",
        "        diversity = len(unique_n_grams) / len(n_grams)\n",
        "        return diversity\n",
        "\n",
        "    def calculate_repetition_ratio(self, text):\n",
        "        \"\"\"Calculate ratio of repeated words to total words.\"\"\"\n",
        "        tokens = nltk.word_tokenize(text.lower())\n",
        "        token_count = len(tokens)\n",
        "\n",
        "        if token_count == 0:\n",
        "            return 0\n",
        "\n",
        "        # Count occurrences of each token\n",
        "        token_counts = Counter(tokens)\n",
        "        repeated_tokens = sum(count - 1 for count in token_counts.values() if count > 1)\n",
        "\n",
        "        repetition_ratio = repeated_tokens / token_count\n",
        "        return repetition_ratio\n",
        "\n",
        "    def check_factual_accuracy(self, generated_text, game_data):\n",
        "        \"\"\"Check if generated text matches facts from game data.\"\"\"\n",
        "        # This is a simplified example. In practice, you would:\n",
        "        # 1. Extract entities and claims from generated text\n",
        "        # 2. Compare with game data (players, scores, events)\n",
        "        # 3. Calculate precision/recall of facts\n",
        "\n",
        "        # For demonstration, we'll just check if key game entities are present\n",
        "        mentioned_entities = []\n",
        "\n",
        "        # Check for player names\n",
        "        for player in game_data.get(\"players\", []):\n",
        "            if player.lower() in generated_text.lower():\n",
        "                mentioned_entities.append(player)\n",
        "\n",
        "        # Check for team names\n",
        "        for team in game_data.get(\"teams\", []):\n",
        "            if team.lower() in generated_text.lower():\n",
        "                mentioned_entities.append(team)\n",
        "\n",
        "        # Calculate simple precision (% of mentioned entities that are correct)\n",
        "        all_correct_entities = game_data.get(\"players\", []) + game_data.get(\"teams\", [])\n",
        "        precision = len(mentioned_entities) / len(all_correct_entities) if all_correct_entities else 0\n",
        "\n",
        "        return {\n",
        "            \"mentioned_entities\": mentioned_entities,\n",
        "            \"precision\": precision\n",
        "        }\n",
        "\n",
        "    def evaluate_commentary(self, generated_text, reference_text=None, game_data=None):\n",
        "        \"\"\"Comprehensive evaluation of generated commentary.\"\"\"\n",
        "        results = {}\n",
        "\n",
        "        # Text-based metrics\n",
        "        results[\"length\"] = len(generated_text.split())\n",
        "        results[\"diversity_bigram\"] = self.calculate_diversity(generated_text, 2)\n",
        "        results[\"diversity_trigram\"] = self.calculate_diversity(generated_text, 3)\n",
        "        results[\"repetition_ratio\"] = self.calculate_repetition_ratio(generated_text)\n",
        "\n",
        "        # Reference-based metrics (if reference available)\n",
        "        if reference_text:\n",
        "            results[\"bleu_scores\"] = self.calculate_bleu(reference_text, generated_text)\n",
        "\n",
        "        # Game data based metrics (if game data available)\n",
        "        if game_data:\n",
        "            results[\"factual_metrics\"] = self.check_factual_accuracy(generated_text, game_data)\n",
        "\n",
        "        return results"
      ],
      "metadata": {
        "id": "oN2eHK4_3ic6"
      },
      "execution_count": null,
      "outputs": []
    },
    {
      "cell_type": "code",
      "source": [
        "# Demonstrate the evaluator\n",
        "evaluator = TextEvaluator()"
      ],
      "metadata": {
        "id": "VnuH6-ci3wbY"
      },
      "execution_count": null,
      "outputs": []
    },
    {
      "cell_type": "code",
      "source": [
        "# Sample data for evaluation\n",
        "reference_commentary = \"Curry dribbles up the court, crosses over his defender, steps back and shoots the three... BANG! That's his fifth three-pointer of the night, extending the Warriors' lead to 10 points.\""
      ],
      "metadata": {
        "id": "WEY1XtSj3yGM"
      },
      "execution_count": null,
      "outputs": []
    },
    {
      "cell_type": "code",
      "source": [
        "# Generated examples to evaluate\n",
        "generated_examples = [\n",
        "    # Good example - similar to reference\n",
        "    \"Curry brings the ball up, makes a nice move on his defender, creates space and shoots from downtown... It's good! That's another three for Curry, and the Warriors now lead by double digits.\",\n",
        "\n",
        "    # Repetitive example\n",
        "    \"Curry dribbles dribbles dribbles and shoots shoots shoots the ball ball ball for three three points points points. Warriors Warriors lead lead by ten ten points.\",\n",
        "\n",
        "    # Factually incorrect example\n",
        "    \"James drives to the basket and dunks it! The Cavaliers take the lead with that spectacular play.\"\n",
        "]"
      ],
      "metadata": {
        "id": "s7YWUkZD3z7v"
      },
      "execution_count": null,
      "outputs": []
    },
    {
      "cell_type": "code",
      "source": [
        "# Game data for factual evaluation\n",
        "game_data = {\n",
        "    \"players\": [\"Stephen Curry\", \"Klay Thompson\", \"Draymond Green\"],\n",
        "    \"teams\": [\"Warriors\", \"Lakers\"],\n",
        "    \"score\": {\"Warriors\": 78, \"Lakers\": 68},\n",
        "    \"current_player\": \"Stephen Curry\",\n",
        "    \"action\": \"three-point shot\",\n",
        "    \"successful\": True\n",
        "}\n",
        "\n",
        "print(\"Commentary Evaluation Examples:\")\n",
        "for i, example in enumerate(generated_examples):\n",
        "    print(f\"\\nExample {i+1}: {example}\")\n",
        "\n",
        "    # Evaluate the example\n",
        "    evaluation = evaluator.evaluate_commentary(\n",
        "        generated_text=example,\n",
        "        reference_text=reference_commentary,\n",
        "        game_data=game_data\n",
        "    )\n",
        "\n",
        "    # Display results\n",
        "    print(\"Evaluation metrics:\")\n",
        "    print(f\"- Length: {evaluation['length']} words\")\n",
        "    print(f\"- Bigram diversity: {evaluation['diversity_bigram']:.3f}\")\n",
        "    print(f\"- Trigram diversity: {evaluation['diversity_trigram']:.3f}\")\n",
        "    print(f\"- Repetition ratio: {evaluation['repetition_ratio']:.3f} (lower is better)\")\n",
        "\n",
        "    if \"bleu_scores\" in evaluation:\n",
        "        print(f\"- BLEU-1: {evaluation['bleu_scores']['bleu-1']:.3f}\")\n",
        "        print(f\"- BLEU-2: {evaluation['bleu_scores']['bleu-2']:.3f}\")\n",
        "\n",
        "    if \"factual_metrics\" in evaluation:\n",
        "        print(f\"- Factual precision: {evaluation['factual_metrics']['precision']:.3f}\")\n",
        "        print(f\"- Mentioned entities: {', '.join(evaluation['factual_metrics']['mentioned_entities'])}\")\n",
        "\n",
        "    # Simple qualitative assessment\n",
        "    if evaluation['repetition_ratio'] > 0.3:\n",
        "        print(\"⚠️ This commentary is too repetitive.\")\n",
        "\n",
        "    if \"factual_metrics\" in evaluation and evaluation['factual_metrics']['precision'] < 0.3:\n",
        "        print(\"⚠️ This commentary may contain factual errors.\")"
      ],
      "metadata": {
        "colab": {
          "base_uri": "https://localhost:8080/"
        },
        "id": "IEiXYjJj315V",
        "outputId": "fb540cac-364c-4435-dffb-fe881cae3e46"
      },
      "execution_count": null,
      "outputs": [
        {
          "output_type": "stream",
          "name": "stdout",
          "text": [
            "Commentary Evaluation Examples:\n",
            "\n",
            "Example 1: Curry brings the ball up, makes a nice move on his defender, creates space and shoots from downtown... It's good! That's another three for Curry, and the Warriors now lead by double digits.\n",
            "Evaluation metrics:\n",
            "- Length: 33 words\n",
            "- Bigram diversity: 1.000\n",
            "- Trigram diversity: 1.000\n",
            "- Repetition ratio: 0.146 (lower is better)\n",
            "- BLEU-1: 0.463\n",
            "- BLEU-2: 0.264\n",
            "- Factual precision: 0.200\n",
            "- Mentioned entities: Warriors\n",
            "⚠️ This commentary may contain factual errors.\n",
            "\n",
            "Example 2: Curry dribbles dribbles dribbles and shoots shoots shoots the ball ball ball for three three points points points. Warriors Warriors lead lead by ten ten points.\n",
            "Evaluation metrics:\n",
            "- Length: 26 words\n",
            "- Bigram diversity: 0.815\n",
            "- Trigram diversity: 1.000\n",
            "- Repetition ratio: 0.500 (lower is better)\n",
            "- BLEU-1: 0.250\n",
            "- BLEU-2: 0.161\n",
            "- Factual precision: 0.200\n",
            "- Mentioned entities: Warriors\n",
            "⚠️ This commentary is too repetitive.\n",
            "⚠️ This commentary may contain factual errors.\n",
            "\n",
            "Example 3: James drives to the basket and dunks it! The Cavaliers take the lead with that spectacular play.\n",
            "Evaluation metrics:\n",
            "- Length: 17 words\n",
            "- Bigram diversity: 1.000\n",
            "- Trigram diversity: 1.000\n",
            "- Repetition ratio: 0.105 (lower is better)\n",
            "- BLEU-1: 0.174\n",
            "- BLEU-2: 0.019\n",
            "- Factual precision: 0.000\n",
            "- Mentioned entities: \n",
            "⚠️ This commentary may contain factual errors.\n"
          ]
        }
      ]
    },
    {
      "cell_type": "markdown",
      "source": [
        "## Without Factual Error"
      ],
      "metadata": {
        "id": "jtheDmHs5G1_"
      }
    },
    {
      "cell_type": "code",
      "source": [
        "import nltk\n",
        "from nltk.translate.bleu_score import sentence_bleu, SmoothingFunction\n",
        "from nltk.util import ngrams\n",
        "from collections import Counter\n",
        "\n",
        "# Ensure punkt tokenizer is available\n",
        "try:\n",
        "    nltk.data.find('tokenizers/punkt')\n",
        "except LookupError:\n",
        "    nltk.download('punkt')\n",
        "\n",
        "class TextEvaluator:\n",
        "    def __init__(self):\n",
        "        \"\"\"Initialize the text evaluator with metrics.\"\"\"\n",
        "        pass  # Resources already checked above\n",
        "\n",
        "    def calculate_bleu(self, reference, candidate):\n",
        "        \"\"\"Calculate BLEU score between reference and candidate text.\"\"\"\n",
        "        ref_tokens = nltk.word_tokenize(reference.lower())\n",
        "        cand_tokens = nltk.word_tokenize(candidate.lower())\n",
        "\n",
        "        smoothie = SmoothingFunction().method1\n",
        "\n",
        "        bleu_1 = sentence_bleu([ref_tokens], cand_tokens,\n",
        "                               weights=(1, 0, 0, 0), smoothing_function=smoothie)\n",
        "        bleu_2 = sentence_bleu([ref_tokens], cand_tokens,\n",
        "                               weights=(0.5, 0.5, 0, 0), smoothing_function=smoothie)\n",
        "        bleu_3 = sentence_bleu([ref_tokens], cand_tokens,\n",
        "                               weights=(0.33, 0.33, 0.33, 0), smoothing_function=smoothie)\n",
        "        bleu_4 = sentence_bleu([ref_tokens], cand_tokens,\n",
        "                               weights=(0.25, 0.25, 0.25, 0.25), smoothing_function=smoothie)\n",
        "\n",
        "        return {\n",
        "            \"bleu-1\": bleu_1,\n",
        "            \"bleu-2\": bleu_2,\n",
        "            \"bleu-3\": bleu_3,\n",
        "            \"bleu-4\": bleu_4\n",
        "        }\n",
        "\n",
        "    def calculate_diversity(self, text, n=2):\n",
        "        \"\"\"Calculate lexical diversity using n-gram types to tokens ratio.\"\"\"\n",
        "        tokens = nltk.word_tokenize(text.lower())\n",
        "\n",
        "        if len(tokens) < n:\n",
        "            return 0\n",
        "\n",
        "        n_grams = list(ngrams(tokens, n))\n",
        "        unique_n_grams = set(n_grams)\n",
        "\n",
        "        return len(unique_n_grams) / len(n_grams)\n",
        "\n",
        "    def calculate_repetition_ratio(self, text):\n",
        "        \"\"\"Calculate ratio of repeated words to total words.\"\"\"\n",
        "        tokens = nltk.word_tokenize(text.lower())\n",
        "        token_count = len(tokens)\n",
        "\n",
        "        if token_count == 0:\n",
        "            return 0\n",
        "\n",
        "        token_counts = Counter(tokens)\n",
        "        repeated_tokens = sum(count - 1 for count in token_counts.values() if count > 1)\n",
        "\n",
        "        return repeated_tokens / token_count\n",
        "\n",
        "    def check_factual_accuracy(self, generated_text, game_data):\n",
        "        \"\"\"Check if generated text matches facts from game data.\"\"\"\n",
        "        mentioned_entities = []\n",
        "\n",
        "        for player in game_data.get(\"players\", []):\n",
        "            if player.lower() in generated_text.lower():\n",
        "                mentioned_entities.append(player)\n",
        "\n",
        "        for team in game_data.get(\"teams\", []):\n",
        "            if team.lower() in generated_text.lower():\n",
        "                mentioned_entities.append(team)\n",
        "\n",
        "        all_correct_entities = game_data.get(\"players\", []) + game_data.get(\"teams\", [])\n",
        "        precision = len(mentioned_entities) / len(all_correct_entities) if all_correct_entities else 0\n",
        "\n",
        "        return {\n",
        "            \"mentioned_entities\": mentioned_entities,\n",
        "            \"precision\": precision\n",
        "        }\n",
        "\n",
        "    def evaluate_commentary(self, generated_text, reference_text=None, game_data=None):\n",
        "        \"\"\"Comprehensive evaluation of generated commentary.\"\"\"\n",
        "        results = {}\n",
        "\n",
        "        results[\"length\"] = len(generated_text.split())\n",
        "        results[\"diversity_bigram\"] = self.calculate_diversity(generated_text, 2)\n",
        "        results[\"diversity_trigram\"] = self.calculate_diversity(generated_text, 3)\n",
        "        results[\"repetition_ratio\"] = self.calculate_repetition_ratio(generated_text)\n",
        "\n",
        "        if reference_text:\n",
        "            results[\"bleu_scores\"] = self.calculate_bleu(reference_text, generated_text)\n",
        "\n",
        "        if game_data:\n",
        "            results[\"factual_metrics\"] = self.check_factual_accuracy(generated_text, game_data)\n",
        "\n",
        "        return results\n",
        "\n",
        "\n",
        "# Reference text\n",
        "reference_commentary = (\n",
        "    \"Curry dribbles up the court, crosses over his defender, steps back and shoots the three... \"\n",
        "    \"BANG! That's his fifth three-pointer of the night, extending the Warriors' lead to 10 points.\"\n",
        ")\n",
        "\n",
        "# Game data\n",
        "game_data = {\n",
        "    \"players\": [\"Stephen Curry\", \"Klay Thompson\", \"Draymond Green\"],\n",
        "    \"teams\": [\"Warriors\", \"Lakers\"],\n",
        "    \"score\": {\"Warriors\": 78, \"Lakers\": 68},\n",
        "    \"current_player\": \"Stephen Curry\",\n",
        "    \"action\": \"three-point shot\",\n",
        "    \"successful\": True\n",
        "}\n",
        "\n",
        "# Factually accurate generated commentary\n",
        "generated_example = (\n",
        "    \"Stephen Curry takes control, crosses midcourt with speed, fakes the defender, \"\n",
        "    \"steps back at the three-point line—he shoots... and it's in! \"\n",
        "    \"That's his fifth triple tonight, putting the Warriors ahead by ten.\"\n",
        ")\n",
        "\n",
        "# Evaluate\n",
        "evaluator = TextEvaluator()\n",
        "evaluation = evaluator.evaluate_commentary(\n",
        "    generated_text=generated_example,\n",
        "    reference_text=reference_commentary,\n",
        "    game_data=game_data\n",
        ")\n",
        "\n",
        "# Print evaluation\n",
        "print(\"\\n✅ Factually Accurate Commentary Example:\")\n",
        "print(f\"Generated Text: {generated_example}\\n\")\n",
        "print(\"Evaluation metrics:\")\n",
        "print(f\"- Length: {evaluation['length']} words\")\n",
        "print(f\"- Bigram diversity: {evaluation['diversity_bigram']:.3f}\")\n",
        "print(f\"- Trigram diversity: {evaluation['diversity_trigram']:.3f}\")\n",
        "print(f\"- Repetition ratio: {evaluation['repetition_ratio']:.3f} (lower is better)\")\n",
        "\n",
        "if \"bleu_scores\" in evaluation:\n",
        "    print(f\"- BLEU-1: {evaluation['bleu_scores']['bleu-1']:.3f}\")\n",
        "    print(f\"- BLEU-2: {evaluation['bleu_scores']['bleu-2']:.3f}\")\n",
        "\n",
        "if \"factual_metrics\" in evaluation:\n",
        "    print(f\"- Factual precision: {evaluation['factual_metrics']['precision']:.3f}\")\n",
        "    print(f\"- Mentioned entities: {', '.join(evaluation['factual_metrics']['mentioned_entities'])}\")\n"
      ],
      "metadata": {
        "colab": {
          "base_uri": "https://localhost:8080/"
        },
        "id": "JS__d1NG34fj",
        "outputId": "ad184d2a-d629-4aa1-feae-bc3adc34cad9"
      },
      "execution_count": null,
      "outputs": [
        {
          "output_type": "stream",
          "name": "stdout",
          "text": [
            "\n",
            "✅ Factually Accurate Commentary Example:\n",
            "Generated Text: Stephen Curry takes control, crosses midcourt with speed, fakes the defender, steps back at the three-point line—he shoots... and it's in! That's his fifth triple tonight, putting the Warriors ahead by ten.\n",
            "\n",
            "Evaluation metrics:\n",
            "- Length: 32 words\n",
            "- Bigram diversity: 1.000\n",
            "- Trigram diversity: 1.000\n",
            "- Repetition ratio: 0.146 (lower is better)\n",
            "- BLEU-1: 0.512\n",
            "- BLEU-2: 0.339\n",
            "- Factual precision: 0.400\n",
            "- Mentioned entities: Stephen Curry, Warriors\n"
          ]
        }
      ]
    },
    {
      "cell_type": "code",
      "source": [],
      "metadata": {
        "id": "3Jc2Zp1p5BZm"
      },
      "execution_count": null,
      "outputs": []
    }
  ]
}