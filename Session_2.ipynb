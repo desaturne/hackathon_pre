{
  "nbformat": 4,
  "nbformat_minor": 0,
  "metadata": {
    "colab": {
      "provenance": []
    },
    "kernelspec": {
      "name": "python3",
      "display_name": "Python 3"
    },
    "language_info": {
      "name": "python"
    }
  },
  "cells": [
    {
      "cell_type": "markdown",
      "source": [
        "# Text Vectorization Techniques"
      ],
      "metadata": {
        "id": "4WNsgq6dITGq"
      }
    },
    {
      "cell_type": "code",
      "source": [
        "from sklearn.feature_extraction.text import CountVectorizer, TfidfVectorizer\n",
        "import numpy as np\n",
        "import requests\n",
        "import json\n",
        "import pandas as pd\n",
        "from pprint import pprint\n",
        "import os\n",
        "import glob\n",
        "import re\n",
        "import string\n",
        "from nltk.corpus import stopwords"
      ],
      "metadata": {
        "id": "CAdNnAbHIQ8J"
      },
      "execution_count": null,
      "outputs": []
    },
    {
      "cell_type": "code",
      "source": [
        "import nltk\n",
        "nltk.download('stopwords')"
      ],
      "metadata": {
        "colab": {
          "base_uri": "https://localhost:8080/"
        },
        "id": "_zW_iAgP1JuY",
        "outputId": "dcb6992a-9fd4-45ca-8d14-9b4b5dec661a"
      },
      "execution_count": null,
      "outputs": [
        {
          "output_type": "stream",
          "name": "stderr",
          "text": [
            "[nltk_data] Downloading package stopwords to /root/nltk_data...\n",
            "[nltk_data]   Unzipping corpora/stopwords.zip.\n"
          ]
        },
        {
          "output_type": "execute_result",
          "data": {
            "text/plain": [
              "True"
            ]
          },
          "metadata": {},
          "execution_count": 96
        }
      ]
    },
    {
      "cell_type": "code",
      "execution_count": null,
      "metadata": {
        "id": "MWls1HvoIIx8"
      },
      "outputs": [],
      "source": [
        "# Sample sports commentary from different sports\n",
        "commentaries = [\n",
        "    \"Messi dribbles past the defender, cuts inside and shoots! GOAL! Incredible finish from the Argentine!\",\n",
        "    \"Federer with an amazing backhand down the line! His opponent had no chance to return that.\",\n",
        "    \"Hamilton takes the inside line into turn 3, overtaking Verstappen with a brilliant move!\",\n",
        "    \"Curry for three... BANG! Nothing but net from downtown. The crowd goes wild!\",\n",
        "    \"Touchdown! Brady finds Gronkowski in the end zone with a perfect pass!\"\n",
        "]\n",
        "\n",
        "sports = [\"soccer\", \"tennis\", \"formula1\", \"basketball\", \"football\"]"
      ]
    },
    {
      "cell_type": "code",
      "source": [
        "# Bag of Words representation\n",
        "print(\"Bag of Words Representation:\")\n",
        "count_vectorizer = CountVectorizer()\n",
        "bow_matrix = count_vectorizer.fit_transform(commentaries)\n",
        "bow_df = pd.DataFrame(\n",
        "    bow_matrix.toarray(),\n",
        "    columns=count_vectorizer.get_feature_names_out(),\n",
        "    index=sports\n",
        ")\n",
        "print(f\"Shape: {bow_matrix.shape}\")\n",
        "print(bow_df.iloc[:, :10])  # Show first 10 features"
      ],
      "metadata": {
        "colab": {
          "base_uri": "https://localhost:8080/"
        },
        "id": "T67ltRfoIZYH",
        "outputId": "e2fc4d30-bcdd-4b03-8a9c-c1a4b5707336"
      },
      "execution_count": null,
      "outputs": [
        {
          "output_type": "stream",
          "name": "stdout",
          "text": [
            "Bag of Words Representation:\n",
            "Shape: (5, 57)\n",
            "            amazing  an  and  argentine  backhand  bang  brady  brilliant  \\\n",
            "soccer            0   0    1          1         0     0      0          0   \n",
            "tennis            1   1    0          0         1     0      0          0   \n",
            "formula1          0   0    0          0         0     0      0          1   \n",
            "basketball        0   0    0          0         0     1      0          0   \n",
            "football          0   0    0          0         0     0      1          0   \n",
            "\n",
            "            but  chance  \n",
            "soccer        0       0  \n",
            "tennis        0       1  \n",
            "formula1      0       0  \n",
            "basketball    1       0  \n",
            "football      0       0  \n"
          ]
        }
      ]
    },
    {
      "cell_type": "code",
      "source": [
        "# TF-IDF Representation\n",
        "print(\"\\nTF-IDF Representation:\")\n",
        "tfidf_vectorizer = TfidfVectorizer()\n",
        "tfidf_matrix = tfidf_vectorizer.fit_transform(commentaries)\n",
        "tfidf_df = pd.DataFrame(\n",
        "    tfidf_matrix.toarray(),\n",
        "    columns=tfidf_vectorizer.get_feature_names_out(),\n",
        "    index=sports\n",
        ")\n",
        "print(f\"Shape: {tfidf_matrix.shape}\")\n",
        "print(tfidf_df.iloc[:, :10])  # Show first 10 features"
      ],
      "metadata": {
        "colab": {
          "base_uri": "https://localhost:8080/"
        },
        "id": "PCnbca6OIcLs",
        "outputId": "2ccc230a-7b1b-44f7-a6ec-31dff3891c6b"
      },
      "execution_count": null,
      "outputs": [
        {
          "output_type": "stream",
          "name": "stdout",
          "text": [
            "\n",
            "TF-IDF Representation:\n",
            "Shape: (5, 57)\n",
            "             amazing        an       and  argentine  backhand      bang  \\\n",
            "soccer      0.000000  0.000000  0.275136   0.275136  0.000000  0.000000   \n",
            "tennis      0.264198  0.264198  0.000000   0.000000  0.264198  0.000000   \n",
            "formula1    0.000000  0.000000  0.000000   0.000000  0.000000  0.000000   \n",
            "basketball  0.000000  0.000000  0.000000   0.000000  0.000000  0.290154   \n",
            "football    0.000000  0.000000  0.000000   0.000000  0.000000  0.000000   \n",
            "\n",
            "               brady  brilliant       but    chance  \n",
            "soccer      0.000000   0.000000  0.000000  0.000000  \n",
            "tennis      0.000000   0.000000  0.000000  0.264198  \n",
            "formula1    0.000000   0.316586  0.000000  0.000000  \n",
            "basketball  0.000000   0.000000  0.290154  0.000000  \n",
            "football    0.321486   0.000000  0.000000  0.000000  \n"
          ]
        }
      ]
    },
    {
      "cell_type": "markdown",
      "source": [
        "## Top 10 tfidf"
      ],
      "metadata": {
        "id": "CPceU5sEwMUH"
      }
    },
    {
      "cell_type": "code",
      "source": [
        "# Load data\n",
        "df = pd.read_csv('/content/test (1).csv', encoding='cp1252')"
      ],
      "metadata": {
        "id": "hQZctQy93TtC"
      },
      "execution_count": null,
      "outputs": []
    },
    {
      "cell_type": "code",
      "source": [
        "# Keep only relevant columns and rename\n",
        "df = df[['text', 'sentiment']].rename(columns={'text': 'tweet_cleaned', 'sentiment': 'Labels'})"
      ],
      "metadata": {
        "id": "YPn4d_7m3XAP"
      },
      "execution_count": null,
      "outputs": []
    },
    {
      "cell_type": "code",
      "source": [
        "# Compile regex to remove all ASCII punctuation + '।' character\n",
        "punct_pattern = re.compile(f\"[{re.escape(string.punctuation)}।]\")"
      ],
      "metadata": {
        "id": "gOF5q5TE3ZMG"
      },
      "execution_count": null,
      "outputs": []
    },
    {
      "cell_type": "code",
      "source": [
        "# Load English stopwords once\n",
        "stop_words = set(stopwords.words('english'))"
      ],
      "metadata": {
        "id": "Nw2x3IxT3asM"
      },
      "execution_count": null,
      "outputs": []
    },
    {
      "cell_type": "code",
      "source": [
        "def clean_and_tokenize(text):\n",
        "    if not isinstance(text, str):\n",
        "        return []\n",
        "\n",
        "    # Remove all punctuation\n",
        "    text = punct_pattern.sub('', text)\n",
        "\n",
        "    # Remove newlines, tabs, and extra spaces\n",
        "    text = text.replace('\\n', ' ').replace('\\t', ' ').strip()\n",
        "    text = re.sub(r'\\s+', ' ', text)\n",
        "\n",
        "    # Remove URLs\n",
        "    text = re.sub(r\"http\\S+|www\\S+|https\\S+\", '', text, flags=re.MULTILINE)\n",
        "\n",
        "    # Remove possessive 's\n",
        "    text = text.replace(\"'s\", \"\")\n",
        "\n",
        "    # Tokenize and remove stopwords\n",
        "    tokens = [word for word in text.split() if word.lower() not in stop_words]\n",
        "\n",
        "    return tokens"
      ],
      "metadata": {
        "id": "PbBFciS63cVq"
      },
      "execution_count": null,
      "outputs": []
    },
    {
      "cell_type": "code",
      "source": [
        "# Apply cleaning and tokenization\n",
        "df['tweet_cleaned'] = df['tweet_cleaned'].apply(clean_and_tokenize)"
      ],
      "metadata": {
        "id": "QmM7naro3hRC"
      },
      "execution_count": null,
      "outputs": []
    },
    {
      "cell_type": "code",
      "source": [
        "# Drop rows where token list is empty after cleaning\n",
        "df = df[df['tweet_cleaned'].map(len) > 0].reset_index(drop=True)"
      ],
      "metadata": {
        "id": "bqN9QiZF3izc"
      },
      "execution_count": null,
      "outputs": []
    },
    {
      "cell_type": "code",
      "source": [
        "# Prepare tokenized sentences for TF-IDF\n",
        "all_tokenized_list_of_sentences = df['tweet_cleaned'].tolist()"
      ],
      "metadata": {
        "id": "AP7TljQ53kYx"
      },
      "execution_count": null,
      "outputs": []
    },
    {
      "cell_type": "code",
      "source": [
        "# Identity tokenizer for pre-tokenized input\n",
        "def identity_tokenizer(text):\n",
        "    return text"
      ],
      "metadata": {
        "id": "tMYfpZ0N3nKo"
      },
      "execution_count": null,
      "outputs": []
    },
    {
      "cell_type": "code",
      "source": [
        "# TF-IDF vectorizer using pre-tokenized input\n",
        "tfidf = TfidfVectorizer(tokenizer=identity_tokenizer, lowercase=False, max_features=10)"
      ],
      "metadata": {
        "id": "dJKhNJwy3o6V"
      },
      "execution_count": null,
      "outputs": []
    },
    {
      "cell_type": "code",
      "source": [
        "# Fit-transform the tokenized data\n",
        "tfidf_matrix = tfidf.fit_transform(all_tokenized_list_of_sentences)\n",
        "\n",
        "# Compute average TF-IDF weights per term\n",
        "weights = np.asarray(tfidf_matrix.mean(axis=0)).ravel()"
      ],
      "metadata": {
        "id": "aMVIZK0j3rEH"
      },
      "execution_count": null,
      "outputs": []
    },
    {
      "cell_type": "code",
      "source": [
        "# Create DataFrame of terms and weights sorted descending\n",
        "weights_df = pd.DataFrame({\n",
        "    'term': tfidf.get_feature_names_out(),\n",
        "    'weight': weights\n",
        "}).sort_values(by='weight', ascending=False).reset_index(drop=True)"
      ],
      "metadata": {
        "id": "kjU-5ooN3tLQ"
      },
      "execution_count": null,
      "outputs": []
    },
    {
      "cell_type": "code",
      "source": [
        "# Show results\n",
        "print(weights_df)"
      ],
      "metadata": {
        "colab": {
          "base_uri": "https://localhost:8080/"
        },
        "id": "ogYfRcvA28HJ",
        "outputId": "4db9c48a-f9c2-42d7-fdb4-ccefcbb9abcf"
      },
      "execution_count": null,
      "outputs": [
        {
          "output_type": "stream",
          "name": "stdout",
          "text": [
            "   term    weight\n",
            "0    Im  0.057274\n",
            "1   day  0.042599\n",
            "2   get  0.038563\n",
            "3  like  0.038402\n",
            "4  good  0.038389\n",
            "5    go  0.035614\n",
            "6   got  0.034848\n",
            "7    im  0.032718\n",
            "8  know  0.029523\n",
            "9  dont  0.028860\n"
          ]
        }
      ]
    },
    {
      "cell_type": "markdown",
      "source": [
        "## N-grams"
      ],
      "metadata": {
        "id": "fXbRYVPGwW1z"
      }
    },
    {
      "cell_type": "code",
      "source": [
        "# N-grams example\n",
        "print(\"\\nUsing N-grams (1-2):\")\n",
        "ngram_vectorizer = CountVectorizer(ngram_range=(1, 2))\n",
        "ngram_matrix = ngram_vectorizer.fit_transform(commentaries)\n",
        "print(f\"Shape with n-grams: {ngram_matrix.shape}\")\n",
        "ngram_features = ngram_vectorizer.get_feature_names_out()\n",
        "print(\"Sample n-gram features:\")\n",
        "print(sorted([f for f in ngram_features if ' ' in f])[:10])  # Show some bigrams"
      ],
      "metadata": {
        "colab": {
          "base_uri": "https://localhost:8080/"
        },
        "id": "A4X7KY-gIteH",
        "outputId": "7159cd17-026b-4dd2-d9c4-5cf969643719"
      },
      "execution_count": null,
      "outputs": [
        {
          "output_type": "stream",
          "name": "stdout",
          "text": [
            "\n",
            "Using N-grams (1-2):\n",
            "Shape with n-grams: (5, 119)\n",
            "Sample n-gram features:\n",
            "['amazing backhand', 'an amazing', 'and shoots', 'backhand down', 'bang nothing', 'brady finds', 'brilliant move', 'but net', 'chance to', 'crowd goes']\n"
          ]
        }
      ]
    },
    {
      "cell_type": "markdown",
      "source": [
        "# Word Embeddings with Gensim"
      ],
      "metadata": {
        "id": "1njS5R2zJCQ4"
      }
    },
    {
      "cell_type": "code",
      "source": [
        "!pip install numpy==1.26.4\n",
        "# !pip install --force-reinstall --no-cache-dir gensim"
      ],
      "metadata": {
        "colab": {
          "base_uri": "https://localhost:8080/"
        },
        "id": "9DO-TDl8KRfn",
        "outputId": "e1d507fe-9992-4c29-b32a-b084c6909288"
      },
      "execution_count": null,
      "outputs": [
        {
          "output_type": "stream",
          "name": "stdout",
          "text": [
            "Requirement already satisfied: numpy==1.26.4 in /usr/local/lib/python3.11/dist-packages (1.26.4)\n"
          ]
        }
      ]
    },
    {
      "cell_type": "code",
      "source": [
        "!pip install gensim"
      ],
      "metadata": {
        "colab": {
          "base_uri": "https://localhost:8080/"
        },
        "id": "K5LmjNHNhMz-",
        "outputId": "5a956d73-e165-42f1-e800-56c6d7b09e10"
      },
      "execution_count": null,
      "outputs": [
        {
          "output_type": "stream",
          "name": "stdout",
          "text": [
            "Requirement already satisfied: gensim in /usr/local/lib/python3.11/dist-packages (4.3.3)\n",
            "Requirement already satisfied: numpy<2.0,>=1.18.5 in /usr/local/lib/python3.11/dist-packages (from gensim) (1.26.4)\n",
            "Requirement already satisfied: scipy<1.14.0,>=1.7.0 in /usr/local/lib/python3.11/dist-packages (from gensim) (1.13.1)\n",
            "Requirement already satisfied: smart-open>=1.8.1 in /usr/local/lib/python3.11/dist-packages (from gensim) (7.1.0)\n",
            "Requirement already satisfied: wrapt in /usr/local/lib/python3.11/dist-packages (from smart-open>=1.8.1->gensim) (1.17.2)\n"
          ]
        }
      ]
    },
    {
      "cell_type": "code",
      "source": [
        "!pip install --upgrade gensim numpy"
      ],
      "metadata": {
        "colab": {
          "base_uri": "https://localhost:8080/"
        },
        "id": "nqVn-ta7hdeB",
        "outputId": "80ba31f1-3a0e-4326-cff7-2cfa035037be"
      },
      "execution_count": null,
      "outputs": [
        {
          "output_type": "stream",
          "name": "stdout",
          "text": [
            "Requirement already satisfied: gensim in /usr/local/lib/python3.11/dist-packages (4.3.3)\n",
            "Requirement already satisfied: numpy in /usr/local/lib/python3.11/dist-packages (1.26.4)\n",
            "Collecting numpy\n",
            "  Downloading numpy-2.3.0-cp311-cp311-manylinux_2_28_x86_64.whl.metadata (62 kB)\n",
            "\u001b[2K     \u001b[90m━━━━━━━━━━━━━━━━━━━━━━━━━━━━━━━━━━━━━━━━\u001b[0m \u001b[32m62.1/62.1 kB\u001b[0m \u001b[31m1.4 MB/s\u001b[0m eta \u001b[36m0:00:00\u001b[0m\n",
            "\u001b[?25hRequirement already satisfied: scipy<1.14.0,>=1.7.0 in /usr/local/lib/python3.11/dist-packages (from gensim) (1.13.1)\n",
            "Requirement already satisfied: smart-open>=1.8.1 in /usr/local/lib/python3.11/dist-packages (from gensim) (7.1.0)\n",
            "Requirement already satisfied: wrapt in /usr/local/lib/python3.11/dist-packages (from smart-open>=1.8.1->gensim) (1.17.2)\n"
          ]
        }
      ]
    },
    {
      "cell_type": "code",
      "source": [
        "!pip install gensim==4.3.0 numpy==1.26.4"
      ],
      "metadata": {
        "colab": {
          "base_uri": "https://localhost:8080/"
        },
        "id": "qqrgO9RChi_9",
        "outputId": "eb7246ab-e8ad-4f64-c702-b30bbb8cc124"
      },
      "execution_count": null,
      "outputs": [
        {
          "output_type": "stream",
          "name": "stdout",
          "text": [
            "Collecting gensim==4.3.0\n",
            "  Downloading gensim-4.3.0-cp311-cp311-manylinux_2_17_x86_64.manylinux2014_x86_64.whl.metadata (8.4 kB)\n",
            "Requirement already satisfied: numpy==1.26.4 in /usr/local/lib/python3.11/dist-packages (1.26.4)\n",
            "Requirement already satisfied: scipy>=1.7.0 in /usr/local/lib/python3.11/dist-packages (from gensim==4.3.0) (1.13.1)\n",
            "Requirement already satisfied: smart-open>=1.8.1 in /usr/local/lib/python3.11/dist-packages (from gensim==4.3.0) (7.1.0)\n",
            "Collecting FuzzyTM>=0.4.0 (from gensim==4.3.0)\n",
            "  Downloading FuzzyTM-2.0.9-py3-none-any.whl.metadata (7.9 kB)\n",
            "Requirement already satisfied: pandas in /usr/local/lib/python3.11/dist-packages (from FuzzyTM>=0.4.0->gensim==4.3.0) (2.2.2)\n",
            "Collecting pyfume (from FuzzyTM>=0.4.0->gensim==4.3.0)\n",
            "  Downloading pyFUME-0.3.4-py3-none-any.whl.metadata (9.7 kB)\n",
            "Requirement already satisfied: wrapt in /usr/local/lib/python3.11/dist-packages (from smart-open>=1.8.1->gensim==4.3.0) (1.17.2)\n",
            "Requirement already satisfied: python-dateutil>=2.8.2 in /usr/local/lib/python3.11/dist-packages (from pandas->FuzzyTM>=0.4.0->gensim==4.3.0) (2.9.0.post0)\n",
            "Requirement already satisfied: pytz>=2020.1 in /usr/local/lib/python3.11/dist-packages (from pandas->FuzzyTM>=0.4.0->gensim==4.3.0) (2025.2)\n",
            "Requirement already satisfied: tzdata>=2022.7 in /usr/local/lib/python3.11/dist-packages (from pandas->FuzzyTM>=0.4.0->gensim==4.3.0) (2025.2)\n",
            "Collecting scipy>=1.7.0 (from gensim==4.3.0)\n",
            "  Downloading scipy-1.10.1-cp311-cp311-manylinux_2_17_x86_64.manylinux2014_x86_64.whl.metadata (58 kB)\n",
            "\u001b[2K     \u001b[90m━━━━━━━━━━━━━━━━━━━━━━━━━━━━━━━━━━━━━━━━\u001b[0m \u001b[32m58.9/58.9 kB\u001b[0m \u001b[31m2.1 MB/s\u001b[0m eta \u001b[36m0:00:00\u001b[0m\n",
            "\u001b[?25hINFO: pip is looking at multiple versions of pyfume to determine which version is compatible with other requirements. This could take a while.\n",
            "Collecting pyfume (from FuzzyTM>=0.4.0->gensim==4.3.0)\n",
            "  Downloading pyFUME-0.3.1-py3-none-any.whl.metadata (9.7 kB)\n",
            "Collecting simpful (from pyfume->FuzzyTM>=0.4.0->gensim==4.3.0)\n",
            "  Downloading simpful-2.12.0-py3-none-any.whl.metadata (4.8 kB)\n",
            "Collecting fst-pso (from pyfume->FuzzyTM>=0.4.0->gensim==4.3.0)\n",
            "  Downloading fst_pso-1.9.0-py3-none-any.whl.metadata (3.2 kB)\n",
            "Requirement already satisfied: typing-extensions in /usr/local/lib/python3.11/dist-packages (from pyfume->FuzzyTM>=0.4.0->gensim==4.3.0) (4.14.0)\n",
            "Requirement already satisfied: six>=1.5 in /usr/local/lib/python3.11/dist-packages (from python-dateutil>=2.8.2->pandas->FuzzyTM>=0.4.0->gensim==4.3.0) (1.17.0)\n",
            "Collecting miniful (from fst-pso->pyfume->FuzzyTM>=0.4.0->gensim==4.3.0)\n",
            "  Downloading miniful-0.0.6.tar.gz (2.8 kB)\n",
            "  Preparing metadata (setup.py) ... \u001b[?25l\u001b[?25hdone\n",
            "Downloading gensim-4.3.0-cp311-cp311-manylinux_2_17_x86_64.manylinux2014_x86_64.whl (24.1 MB)\n",
            "\u001b[2K   \u001b[90m━━━━━━━━━━━━━━━━━━━━━━━━━━━━━━━━━━━━━━━━\u001b[0m \u001b[32m24.1/24.1 MB\u001b[0m \u001b[31m23.5 MB/s\u001b[0m eta \u001b[36m0:00:00\u001b[0m\n",
            "\u001b[?25hDownloading FuzzyTM-2.0.9-py3-none-any.whl (31 kB)\n",
            "Downloading pyFUME-0.3.1-py3-none-any.whl (59 kB)\n",
            "\u001b[2K   \u001b[90m━━━━━━━━━━━━━━━━━━━━━━━━━━━━━━━━━━━━━━━━\u001b[0m \u001b[32m59.6/59.6 kB\u001b[0m \u001b[31m6.1 MB/s\u001b[0m eta \u001b[36m0:00:00\u001b[0m\n",
            "\u001b[?25hDownloading fst_pso-1.9.0-py3-none-any.whl (25 kB)\n",
            "Downloading simpful-2.12.0-py3-none-any.whl (24 kB)\n",
            "Building wheels for collected packages: miniful\n",
            "  Building wheel for miniful (setup.py) ... \u001b[?25l\u001b[?25hdone\n",
            "  Created wheel for miniful: filename=miniful-0.0.6-py3-none-any.whl size=3506 sha256=a590b00c31343e9fb1db48abd0334678db7cc066759003adb675e0117f3e50cc\n",
            "  Stored in directory: /root/.cache/pip/wheels/9d/ff/2f/afe4cd56f47de147407705626517d68bea0f3b74eb1fb168e6\n",
            "Successfully built miniful\n",
            "Installing collected packages: simpful, miniful, fst-pso, pyfume, FuzzyTM, gensim\n",
            "  Attempting uninstall: gensim\n",
            "    Found existing installation: gensim 4.3.3\n",
            "    Uninstalling gensim-4.3.3:\n",
            "      Successfully uninstalled gensim-4.3.3\n",
            "Successfully installed FuzzyTM-2.0.9 fst-pso-1.9.0 gensim-4.3.0 miniful-0.0.6 pyfume-0.3.1 simpful-2.12.0\n"
          ]
        }
      ]
    },
    {
      "cell_type": "code",
      "source": [
        "!pip install numpy==1.23.5"
      ],
      "metadata": {
        "colab": {
          "base_uri": "https://localhost:8080/",
          "height": 620
        },
        "id": "tJGbG-L6hruh",
        "outputId": "281ecc70-0070-470d-8c3c-fa43fd06ed4e"
      },
      "execution_count": null,
      "outputs": [
        {
          "output_type": "stream",
          "name": "stdout",
          "text": [
            "Collecting numpy==1.23.5\n",
            "  Downloading numpy-1.23.5-cp311-cp311-manylinux_2_17_x86_64.manylinux2014_x86_64.whl.metadata (2.3 kB)\n",
            "Downloading numpy-1.23.5-cp311-cp311-manylinux_2_17_x86_64.manylinux2014_x86_64.whl (17.1 MB)\n",
            "\u001b[2K   \u001b[90m━━━━━━━━━━━━━━━━━━━━━━━━━━━━━━━━━━━━━━━━\u001b[0m \u001b[32m17.1/17.1 MB\u001b[0m \u001b[31m42.7 MB/s\u001b[0m eta \u001b[36m0:00:00\u001b[0m\n",
            "\u001b[?25hInstalling collected packages: numpy\n",
            "  Attempting uninstall: numpy\n",
            "    Found existing installation: numpy 1.26.4\n",
            "    Uninstalling numpy-1.26.4:\n",
            "      Successfully uninstalled numpy-1.26.4\n",
            "\u001b[31mERROR: pip's dependency resolver does not currently take into account all the packages that are installed. This behaviour is the source of the following dependency conflicts.\n",
            "albumentations 2.0.8 requires numpy>=1.24.4, but you have numpy 1.23.5 which is incompatible.\n",
            "tensorflow 2.18.0 requires numpy<2.1.0,>=1.26.0, but you have numpy 1.23.5 which is incompatible.\n",
            "blosc2 3.3.4 requires numpy>=1.26, but you have numpy 1.23.5 which is incompatible.\n",
            "jaxlib 0.5.1 requires numpy>=1.25, but you have numpy 1.23.5 which is incompatible.\n",
            "xarray-einstats 0.9.0 requires numpy>=1.25, but you have numpy 1.23.5 which is incompatible.\n",
            "xarray 2025.3.1 requires numpy>=1.24, but you have numpy 1.23.5 which is incompatible.\n",
            "treescope 0.1.9 requires numpy>=1.25.2, but you have numpy 1.23.5 which is incompatible.\n",
            "scikit-image 0.25.2 requires numpy>=1.24, but you have numpy 1.23.5 which is incompatible.\n",
            "chex 0.1.89 requires numpy>=1.24.1, but you have numpy 1.23.5 which is incompatible.\n",
            "thinc 8.3.6 requires numpy<3.0.0,>=2.0.0, but you have numpy 1.23.5 which is incompatible.\n",
            "bigframes 2.5.0 requires numpy>=1.24.0, but you have numpy 1.23.5 which is incompatible.\n",
            "db-dtypes 1.4.3 requires numpy>=1.24.0, but you have numpy 1.23.5 which is incompatible.\n",
            "tsfresh 0.21.0 requires scipy>=1.14.0; python_version >= \"3.10\", but you have scipy 1.13.1 which is incompatible.\n",
            "jax 0.5.2 requires numpy>=1.25, but you have numpy 1.23.5 which is incompatible.\n",
            "imbalanced-learn 0.13.0 requires numpy<3,>=1.24.3, but you have numpy 1.23.5 which is incompatible.\n",
            "pymc 5.23.0 requires numpy>=1.25.0, but you have numpy 1.23.5 which is incompatible.\n",
            "albucore 0.0.24 requires numpy>=1.24.4, but you have numpy 1.23.5 which is incompatible.\u001b[0m\u001b[31m\n",
            "\u001b[0mSuccessfully installed numpy-1.23.5\n"
          ]
        },
        {
          "output_type": "display_data",
          "data": {
            "application/vnd.colab-display-data+json": {
              "pip_warning": {
                "packages": [
                  "numpy"
                ]
              },
              "id": "dcf75f8408aa4350914d08d7c9d9de02"
            }
          },
          "metadata": {}
        }
      ]
    },
    {
      "cell_type": "code",
      "source": [
        "!pip uninstall gensim\n",
        "!pip install gensim"
      ],
      "metadata": {
        "colab": {
          "base_uri": "https://localhost:8080/"
        },
        "id": "yJC8irgjhwiF",
        "outputId": "d6424515-08e9-40bb-ed7c-5e0a1990ca98"
      },
      "execution_count": null,
      "outputs": [
        {
          "output_type": "stream",
          "name": "stdout",
          "text": [
            "Found existing installation: gensim 4.3.0\n",
            "Uninstalling gensim-4.3.0:\n",
            "  Would remove:\n",
            "    /usr/local/lib/python3.11/dist-packages/gensim-4.3.0.dist-info/*\n",
            "    /usr/local/lib/python3.11/dist-packages/gensim/*\n",
            "Proceed (Y/n)? y\n",
            "  Successfully uninstalled gensim-4.3.0\n",
            "Collecting gensim\n",
            "  Downloading gensim-4.3.3-cp311-cp311-manylinux_2_17_x86_64.manylinux2014_x86_64.whl.metadata (8.1 kB)\n",
            "Requirement already satisfied: numpy<2.0,>=1.18.5 in /usr/local/lib/python3.11/dist-packages (from gensim) (1.23.5)\n",
            "Requirement already satisfied: scipy<1.14.0,>=1.7.0 in /usr/local/lib/python3.11/dist-packages (from gensim) (1.13.1)\n",
            "Requirement already satisfied: smart-open>=1.8.1 in /usr/local/lib/python3.11/dist-packages (from gensim) (7.1.0)\n",
            "Requirement already satisfied: wrapt in /usr/local/lib/python3.11/dist-packages (from smart-open>=1.8.1->gensim) (1.17.2)\n",
            "Downloading gensim-4.3.3-cp311-cp311-manylinux_2_17_x86_64.manylinux2014_x86_64.whl (26.7 MB)\n",
            "\u001b[2K   \u001b[90m━━━━━━━━━━━━━━━━━━━━━━━━━━━━━━━━━━━━━━━━\u001b[0m \u001b[32m26.7/26.7 MB\u001b[0m \u001b[31m35.3 MB/s\u001b[0m eta \u001b[36m0:00:00\u001b[0m\n",
            "\u001b[?25hInstalling collected packages: gensim\n",
            "Successfully installed gensim-4.3.3\n"
          ]
        }
      ]
    },
    {
      "cell_type": "code",
      "source": [
        "import numpy\n",
        "import gensim\n",
        "\n",
        "print(\"NumPy version:\", numpy.__version__)\n",
        "print(\"Gensim version:\", gensim.__version__)"
      ],
      "metadata": {
        "colab": {
          "base_uri": "https://localhost:8080/"
        },
        "id": "M_2vfPKHLRtG",
        "outputId": "a9b0a814-4871-404e-d270-7a70678247c0"
      },
      "execution_count": null,
      "outputs": [
        {
          "output_type": "stream",
          "name": "stdout",
          "text": [
            "NumPy version: 1.23.5\n",
            "Gensim version: 4.3.3\n"
          ]
        }
      ]
    },
    {
      "cell_type": "code",
      "source": [
        "from gensim.models import Word2Vec\n",
        "import matplotlib.pyplot as plt\n",
        "from sklearn.decomposition import PCA\n",
        "import seaborn as sns"
      ],
      "metadata": {
        "id": "sXq-2y15JE8O"
      },
      "execution_count": null,
      "outputs": []
    },
    {
      "cell_type": "code",
      "source": [
        "import nltk\n",
        "nltk.download('punkt_tab')"
      ],
      "metadata": {
        "colab": {
          "base_uri": "https://localhost:8080/"
        },
        "id": "MBYPztf5LlC2",
        "outputId": "48bba6aa-4078-46ee-ea01-fb1a7759f1c5"
      },
      "execution_count": null,
      "outputs": [
        {
          "output_type": "stream",
          "name": "stderr",
          "text": [
            "[nltk_data] Downloading package punkt_tab to /root/nltk_data...\n",
            "[nltk_data]   Unzipping tokenizers/punkt_tab.zip.\n"
          ]
        },
        {
          "output_type": "execute_result",
          "data": {
            "text/plain": [
              "True"
            ]
          },
          "metadata": {},
          "execution_count": 4
        }
      ]
    },
    {
      "cell_type": "code",
      "source": [
        "# Prepare corpus for Word2Vec (tokenized sentences)\n",
        "from nltk.tokenize import word_tokenize\n",
        "import re\n",
        "\n",
        "def preprocess(text):\n",
        "    text = text.lower()\n",
        "    text = re.sub(r'[^\\w\\s]', '', text)\n",
        "    return text"
      ],
      "metadata": {
        "id": "pdgzD7hLIu13"
      },
      "execution_count": null,
      "outputs": []
    },
    {
      "cell_type": "code",
      "source": [
        "# Sample sports commentary from different sports\n",
        "\n",
        "commentaries = [\n",
        "    \"Messi scores a stunning goal in the final match of the tournament\",\n",
        "    \"The government announced new policies on cybersecurity\",\n",
        "    \"NASA plans to send astronauts to Mars by 2035\",\n",
        "    \"The prime minister visited the flood-affected regions\",\n",
        "    \"Federer wins his 21st Grand Slam title with a superb performance\",\n",
        "    \"Apple releases a new iPhone with AI-powered features\",\n",
        "    \"The opposition demands a parliamentary debate on economic reforms\",\n",
        "    \"Curry hits a three-pointer at the buzzer to win the game\",\n",
        "    \"Google develops an advanced quantum computing chip\",\n",
        "    \"Hamilton wins the Grand Prix after a thrilling race\"\n",
        "]\n",
        "\n",
        "sports = [\"soccer\", \"tennis\", \"formula1\", \"basketball\", \"football\"]"
      ],
      "metadata": {
        "id": "KOPug5d-LY-v"
      },
      "execution_count": null,
      "outputs": []
    },
    {
      "cell_type": "code",
      "source": [
        "# Using a larger corpus for better embedding quality\n",
        "# In a real scenario, we would use thousands of sentences\n",
        "sports_corpus = commentaries + [\n",
        "    \"The striker shoots from outside the box but hits the crossbar.\",\n",
        "    \"The point guard drives to the basket and makes a perfect assist.\",\n",
        "    \"The quarterback throws a long pass downfield to the wide receiver.\",\n",
        "    \"The driver sets the fastest lap time in the final sector.\",\n",
        "    \"The server delivers an ace to win the second set.\",\n",
        "    # Additional sentences would be loaded from dataset\n",
        "]\n",
        "\n",
        "tokenized_corpus = [word_tokenize(preprocess(sentence)) for sentence in sports_corpus]"
      ],
      "metadata": {
        "id": "h4HR83bzLyHt"
      },
      "execution_count": null,
      "outputs": []
    },
    {
      "cell_type": "code",
      "source": [
        "tokenized_corpus"
      ],
      "metadata": {
        "colab": {
          "base_uri": "https://localhost:8080/"
        },
        "id": "XmokkmcmpSg8",
        "outputId": "e673a63d-8b3f-415b-de43-cb7cc99c4378"
      },
      "execution_count": null,
      "outputs": [
        {
          "output_type": "execute_result",
          "data": {
            "text/plain": [
              "[['messi',\n",
              "  'scores',\n",
              "  'a',\n",
              "  'stunning',\n",
              "  'goal',\n",
              "  'in',\n",
              "  'the',\n",
              "  'final',\n",
              "  'match',\n",
              "  'of',\n",
              "  'the',\n",
              "  'tournament'],\n",
              " ['the', 'government', 'announced', 'new', 'policies', 'on', 'cybersecurity'],\n",
              " ['nasa', 'plans', 'to', 'send', 'astronauts', 'to', 'mars', 'by', '2035'],\n",
              " ['the', 'prime', 'minister', 'visited', 'the', 'floodaffected', 'regions'],\n",
              " ['federer',\n",
              "  'wins',\n",
              "  'his',\n",
              "  '21st',\n",
              "  'grand',\n",
              "  'slam',\n",
              "  'title',\n",
              "  'with',\n",
              "  'a',\n",
              "  'superb',\n",
              "  'performance'],\n",
              " ['apple', 'releases', 'a', 'new', 'iphone', 'with', 'aipowered', 'features'],\n",
              " ['the',\n",
              "  'opposition',\n",
              "  'demands',\n",
              "  'a',\n",
              "  'parliamentary',\n",
              "  'debate',\n",
              "  'on',\n",
              "  'economic',\n",
              "  'reforms'],\n",
              " ['curry',\n",
              "  'hits',\n",
              "  'a',\n",
              "  'threepointer',\n",
              "  'at',\n",
              "  'the',\n",
              "  'buzzer',\n",
              "  'to',\n",
              "  'win',\n",
              "  'the',\n",
              "  'game'],\n",
              " ['google', 'develops', 'an', 'advanced', 'quantum', 'computing', 'chip'],\n",
              " ['hamilton',\n",
              "  'wins',\n",
              "  'the',\n",
              "  'grand',\n",
              "  'prix',\n",
              "  'after',\n",
              "  'a',\n",
              "  'thrilling',\n",
              "  'race'],\n",
              " ['the',\n",
              "  'striker',\n",
              "  'shoots',\n",
              "  'from',\n",
              "  'outside',\n",
              "  'the',\n",
              "  'box',\n",
              "  'but',\n",
              "  'hits',\n",
              "  'the',\n",
              "  'crossbar'],\n",
              " ['the',\n",
              "  'point',\n",
              "  'guard',\n",
              "  'drives',\n",
              "  'to',\n",
              "  'the',\n",
              "  'basket',\n",
              "  'and',\n",
              "  'makes',\n",
              "  'a',\n",
              "  'perfect',\n",
              "  'assist'],\n",
              " ['the',\n",
              "  'quarterback',\n",
              "  'throws',\n",
              "  'a',\n",
              "  'long',\n",
              "  'pass',\n",
              "  'downfield',\n",
              "  'to',\n",
              "  'the',\n",
              "  'wide',\n",
              "  'receiver'],\n",
              " ['the',\n",
              "  'driver',\n",
              "  'sets',\n",
              "  'the',\n",
              "  'fastest',\n",
              "  'lap',\n",
              "  'time',\n",
              "  'in',\n",
              "  'the',\n",
              "  'final',\n",
              "  'sector'],\n",
              " ['the',\n",
              "  'server',\n",
              "  'delivers',\n",
              "  'an',\n",
              "  'ace',\n",
              "  'to',\n",
              "  'win',\n",
              "  'the',\n",
              "  'second',\n",
              "  'set']]"
            ]
          },
          "metadata": {},
          "execution_count": 30
        }
      ]
    },
    {
      "cell_type": "code",
      "source": [
        "# Train Word2Vec model\n",
        "w2v_model = Word2Vec(sentences=tokenized_corpus, vector_size=100, window=5, min_count=1, workers=4)\n",
        "\n",
        "# Extract and visualize embeddings\n",
        "def plot_embeddings(model, words):\n",
        "    # Extract word vectors\n",
        "    word_vectors = [model.wv[word] for word in words if word in model.wv]\n",
        "    words = [word for word in words if word in model.wv]\n",
        "\n",
        "    if not word_vectors:\n",
        "        print(\"None of the specified words found in vocabulary.\")\n",
        "        return\n",
        "\n",
        "    # Reduce dimensions for visualization\n",
        "    pca = PCA(n_components=4)\n",
        "    result = pca.fit_transform(word_vectors)\n",
        "\n",
        "    # Create plot\n",
        "    plt.figure(figsize=(10, 8))\n",
        "    plt.scatter(result[:, 0], result[:, 1], c='lightblue')\n",
        "\n",
        "    # Add labels\n",
        "    for i, word in enumerate(words):\n",
        "        plt.annotate(word, xy=(result[i, 0], result[i, 1]))\n",
        "\n",
        "    plt.title(\"Word Embeddings Visualization\")\n",
        "    plt.grid(True)\n",
        "    plt.show()"
      ],
      "metadata": {
        "id": "sDjb5c9UL2ed"
      },
      "execution_count": null,
      "outputs": []
    },
    {
      "cell_type": "markdown",
      "source": [
        "sentences=tokenized_corpus: Your input data (already tokenized list of word lists).\n",
        "\n",
        "vector_size=100: Each word will be represented as a 100-dimensional vector.\n",
        "\n",
        "window=5: The model looks at 5 words to the left and right of each word to understand its context.\n",
        "\n",
        "min_count=1: Even words that appear only once in the dataset are included.\n",
        "\n",
        "workers=4: Uses 4 CPU cores to train faster."
      ],
      "metadata": {
        "id": "l-L5u7opqBk6"
      }
    },
    {
      "cell_type": "markdown",
      "source": [
        "Reduces 100-dimensional word vectors to 4 dimensions using Principal Component Analysis (PCA)."
      ],
      "metadata": {
        "id": "1KD4Gi5oqkVX"
      }
    },
    {
      "cell_type": "markdown",
      "source": [
        ".fit_transform(word_vectors) does two things:\n",
        "\n",
        "**Fit:**\n",
        "\n",
        "Learns how to rotate, shift, and scale the original 100-dimensional vectors so they can be represented in 4 dimensions while preserving as much variance (information) as possible.\n",
        "\n",
        "**Transform:**\n",
        "\n",
        "Applies this learned transformation to your word vectors, reducing them from 100 dimensions to 4 dimensions."
      ],
      "metadata": {
        "id": "X4MMxheArIiT"
      }
    },
    {
      "cell_type": "code",
      "source": [
        "# Visualize sport-specific terms\n",
        "sports_terms = [\n",
        "    \"goal\", \"dribbles\", \"shoots\", \"basket\", \"touchdown\",\n",
        "    \"quarterback\", \"ace\", \"driver\", \"fastest\", \"defender\"\n",
        "]\n",
        "\n",
        "plot_embeddings(w2v_model, sports_terms)\n",
        "\n",
        "# Find similar words for a sports term\n",
        "print(\"\\nWords similar to 'goal':\")\n",
        "try:\n",
        "    similar_words = w2v_model.wv.most_similar(\"goal\", topn=5)\n",
        "    for word, similarity in similar_words:\n",
        "        print(f\"{word}: {similarity:.4f}\")\n",
        "except KeyError:\n",
        "    print(\"Word 'goal' not in vocabulary. Try with a larger corpus.\")"
      ],
      "metadata": {
        "colab": {
          "base_uri": "https://localhost:8080/",
          "height": 821
        },
        "id": "KCF_gKJTL5Cl",
        "outputId": "c79245f8-7137-4df1-e0ce-b4de9c6fcfc7"
      },
      "execution_count": null,
      "outputs": [
        {
          "output_type": "display_data",
          "data": {
            "text/plain": [
              "<Figure size 1000x800 with 1 Axes>"
            ],
            "image/png": "[encoded data removed]"
          },
          "metadata": {}
        },
        {
          "output_type": "stream",
          "name": "stdout",
          "text": [
            "\n",
            "Words similar to 'goal':\n",
            "announced: 0.2598\n",
            "send: 0.2241\n",
            "debate: 0.1783\n",
            "hamilton: 0.1460\n",
            "visited: 0.1459\n"
          ]
        }
      ]
    },
    {
      "cell_type": "code",
      "source": [
        "# Check embedding dimension for the word 'goal'\n",
        "word = 'goal'\n",
        "if word in w2v_model.wv:\n",
        "    print(f\"Dimension of word embedding for '{word}': {w2v_model.wv[word].shape}\")\n",
        "else:\n",
        "    print(f\"Word '{word}' not found in vocabulary.\")"
      ],
      "metadata": {
        "colab": {
          "base_uri": "https://localhost:8080/"
        },
        "id": "lwHwAPx_os7O",
        "outputId": "d3e76d08-ca37-4b43-9d4a-ad717a820707"
      },
      "execution_count": null,
      "outputs": [
        {
          "output_type": "stream",
          "name": "stdout",
          "text": [
            "Dimension of word embedding for 'goal': (100,)\n"
          ]
        }
      ]
    },
    {
      "cell_type": "code",
      "source": [
        "from gensim.models import Word2Vec\n",
        "import gensim\n",
        "from nltk.tokenize import sent_tokenize, word_tokenize\n",
        "import warnings\n",
        "\n",
        "warnings.filterwarnings(action='ignore')\n",
        "\n",
        "s = [\n",
        "    \"Messi dribbles past the defender, cuts inside and shoots! GOAL! Incredible finish from the Argentine!\",\n",
        "    \"Federer with an amazing backhand down the line! His opponent had no chance to return that.\",\n",
        "    \"Hamilton takes the inside line into turn 3, overtaking Verstappen with a brilliant move!\",\n",
        "    \"Curry for three... BANG! Nothing but net from downtown. The crowd goes wild!\",\n",
        "    \"Touchdown! Brady finds Gronkowski in the end zone with a perfect pass!\"\n",
        "]\n",
        "\n",
        "# Replace \\n with space in each sentence\n",
        "f = [sentence.replace(\"\\n\", \" \") for sentence in s]\n",
        "\n",
        "# Join list into a single string\n",
        "text = \" \".join(f)\n",
        "\n",
        "data = []\n",
        "\n",
        "# iterate through each sentence\n",
        "for i in sent_tokenize(text):\n",
        "    temp = []\n",
        "\n",
        "    # tokenize the sentence into words\n",
        "    for j in word_tokenize(i):\n",
        "        temp.append(j.lower())\n",
        "\n",
        "    data.append(temp)\n",
        "\n",
        "# Create CBOW model\n",
        "model1 = gensim.models.Word2Vec(data, min_count=1, vector_size=100, window=5)\n",
        "\n",
        "# Print vocabulary to check what words are available\n",
        "print(\"Vocabulary:\", list(model1.wv.index_to_key))\n",
        "\n",
        "# Print results only if words exist\n",
        "if 'messi' in model1.wv and 'brilliant' in model1.wv:\n",
        "    print(\"Cosine similarity between 'messi' and 'brilliant' - CBOW : \",\n",
        "          model1.wv.similarity('messi', 'brilliant'))\n",
        "\n",
        "# Create Skip Gram model\n",
        "model2 = gensim.models.Word2Vec(data, min_count=1, vector_size=100, window=5, sg=1)\n",
        "\n",
        "if 'messi' in model2.wv and 'brilliant' in model2.wv:\n",
        "    print(\"Cosine similarity between 'messi' and 'brilliant' - Skip Gram : \",\n",
        "          model2.wv.similarity('messi', 'brilliant'))"
      ],
      "metadata": {
        "colab": {
          "base_uri": "https://localhost:8080/"
        },
        "id": "zyGeowKYKIcO",
        "outputId": "2580129a-1b7d-4338-cf4a-025d1edb6b5e"
      },
      "execution_count": null,
      "outputs": [
        {
          "output_type": "stream",
          "name": "stdout",
          "text": [
            "Vocabulary: ['!', 'the', 'with', 'inside', 'from', 'a', 'line', '.', ',', 'had', 'an', 'his', 'no', 'chance', 'down', 'to', 'backhand', 'amazing', 'opponent', 'argentine', 'federer', 'that', 'finish', 'incredible', 'goal', 'shoots', 'and', 'cuts', 'defender', 'past', 'dribbles', 'return', 'pass', 'perfect', 'hamilton', 'zone', 'end', 'in', 'gronkowski', 'finds', 'brady', 'touchdown', 'wild', 'goes', 'crowd', 'downtown', 'net', 'but', 'nothing', 'bang', '...', 'three', 'for', 'curry', 'move', 'brilliant', 'verstappen', 'overtaking', '3', 'turn', 'into', 'takes', 'messi']\n",
            "Cosine similarity between 'messi' and 'brilliant' - CBOW :  0.045464005\n",
            "Cosine similarity between 'messi' and 'brilliant' - Skip Gram :  0.046776664\n"
          ]
        }
      ]
    },
    {
      "cell_type": "code",
      "source": [],
      "metadata": {
        "id": "bZ-LRLyeihTF"
      },
      "execution_count": null,
      "outputs": []
    }
  ]
}